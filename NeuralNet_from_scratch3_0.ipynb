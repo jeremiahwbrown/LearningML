{
  "nbformat": 4,
  "nbformat_minor": 0,
  "metadata": {
    "colab": {
      "provenance": []
    },
    "kernelspec": {
      "name": "python3",
      "display_name": "Python 3"
    },
    "language_info": {
      "name": "python"
    }
  },
  "cells": [
    {
      "cell_type": "code",
      "execution_count": 1,
      "metadata": {
        "id": "LtOaxX6PW0vV"
      },
      "outputs": [],
      "source": [
        "import numpy as np"
      ]
    },
    {
      "cell_type": "code",
      "source": [
        "def leaky_relu(x):\n",
        "  return x if x > 0 else .01 * x\n",
        "\n",
        "def leaky_relu_derivative(x):\n",
        "  return 1 if x > 0 else .01"
      ],
      "metadata": {
        "id": "Of9P72-dgRG1"
      },
      "execution_count": 2,
      "outputs": []
    },
    {
      "cell_type": "code",
      "source": [
        "def activation(input_array):\n",
        "  input_activations = np.zeros((input_array.shape[0] + 1, ))\n",
        "  input_activations_gradients = np.zeros((input_array.shape[0] + 1, ))\n",
        "  for i in range(input_array.shape[0]):\n",
        "    input_activations[i] = leaky_relu(input_array[i])\n",
        "    input_activations_gradients[i] = leaky_relu_derivative(input_array[i])\n",
        "  input_activations[input_array.shape[0]] = 1.0\n",
        "  return input_activations, input_activations_gradients"
      ],
      "metadata": {
        "id": "6loij9FKgwhe"
      },
      "execution_count": 4,
      "outputs": []
    },
    {
      "cell_type": "code",
      "source": [
        "class NeuralNetwork:\n",
        "\n",
        "  def __init__(self, number_of_layers, number_of_neurons_per_layer):\n",
        "    self.size = number_of_layers\n",
        "    self.network = np.empty((number_of_layers, ), dtype=np.ndarray)\n",
        "    self.gradients = np.empty((number_of_layers, ), dtype=np.ndarray)\n",
        "\n",
        "    for i in range(self.size):\n",
        "      #self.network[i] = np.full((self.size, self.size + 1), 1.0)\n",
        "      self.network[i] = np.random.uniform(-.3, .3, (number_of_neurons_per_layer, number_of_neurons_per_layer + 1))\n",
        "      self.gradients[i] = np.zeros((self.size, self.size + 1))\n",
        "\n",
        "    self.activation_gradients = np.zeros((self.size, self.size + 1))\n",
        "    self.layer_gradients = np.zeros((self.size + 1, self.size))\n",
        "    self.mults = np.zeros((self.size, self.size + 1))\n",
        "\n",
        "\n",
        "  def feed_forward(self, x_inputs):\n",
        "    previous_activations = np.append(x_inputs, 1.0)\n",
        "    previous_temp = np.array([])\n",
        "    for i in range(self.size):\n",
        "      self.mults[i] = previous_activations\n",
        "      temp = np.dot(self.network[i], previous_activations)\n",
        "      previous_activations, self.activation_gradients[i] = activation(temp)\n",
        "      if (i-1 >= 0):\n",
        "        self.layer_gradients[i - 1] = previous_temp\n",
        "      previous_temp = temp\n",
        "    self.layer_gradients[self.layer_gradients.shape[0]-2] = temp\n",
        "    return previous_activations[:previous_activations.shape[0]-1]\n",
        "\n",
        "  def gradient_descent(self, dE_dOutput):\n",
        "    output_layer_gradient = np.full((self.layer_gradients.shape[1], ), dE_dOutput)\n",
        "    self.layer_gradients[self.layer_gradients.shape[0]-1] = output_layer_gradient\n",
        "    self.layer_gradients = np.flip(np.multiply.accumulate(np.flip(self.layer_gradients)))\n",
        "\n",
        "\n",
        "  def __repr__(self):\n",
        "    s = \"\"\n",
        "    for i in range(self.network.shape[0]):\n",
        "      s += f\"Layer: {i+1} \\n{str(self.network[i])}\\n\\n\"\n",
        "    return s"
      ],
      "metadata": {
        "id": "Q2Yr0Lc7ZNKJ"
      },
      "execution_count": 9,
      "outputs": []
    },
    {
      "cell_type": "code",
      "source": [
        "nn = NeuralNetwork(2, 2)\n",
        "print(nn)"
      ],
      "metadata": {
        "colab": {
          "base_uri": "https://localhost:8080/"
        },
        "id": "VG7pkIlMlOxL",
        "outputId": "02cda56e-8549-4329-9678-8f4e05c697e7"
      },
      "execution_count": 13,
      "outputs": [
        {
          "output_type": "stream",
          "name": "stdout",
          "text": [
            "Layer: 1 \n",
            "[[-0.02078135  0.25013627  0.12129649]\n",
            " [-0.11203934  0.22134885 -0.29520984]]\n",
            "\n",
            "Layer: 2 \n",
            "[[-0.00657517  0.29305864  0.00038872]\n",
            " [ 0.01714371  0.27777136 -0.13187026]]\n",
            "\n",
            "\n"
          ]
        }
      ]
    },
    {
      "cell_type": "code",
      "source": [
        "a = np.array([[1.0, 1.0, 1.0], [2.0, 2.0, 2.0], [3.0, 3.0, 3.0], [4.0, 4.0, 4.0]])\n",
        "print(a)"
      ],
      "metadata": {
        "colab": {
          "base_uri": "https://localhost:8080/"
        },
        "id": "GdmhlYERpS75",
        "outputId": "60f73977-0905-4211-f99f-bf717f0d6e50"
      },
      "execution_count": 10,
      "outputs": [
        {
          "output_type": "stream",
          "name": "stdout",
          "text": [
            "[[1. 1. 1.]\n",
            " [2. 2. 2.]\n",
            " [3. 3. 3.]\n",
            " [4. 4. 4.]]\n"
          ]
        }
      ]
    },
    {
      "cell_type": "code",
      "source": [
        "b = np.multiply.accumulate(np.flip(a))\n",
        "print(np.flip(a), '\\n')\n",
        "print(b, \"\\n\")"
      ],
      "metadata": {
        "colab": {
          "base_uri": "https://localhost:8080/"
        },
        "id": "udVMEAMfpYvh",
        "outputId": "4b1b4d12-a160-4997-a8d8-e5f90f591a4c"
      },
      "execution_count": 11,
      "outputs": [
        {
          "output_type": "stream",
          "name": "stdout",
          "text": [
            "[[4. 4. 4.]\n",
            " [3. 3. 3.]\n",
            " [2. 2. 2.]\n",
            " [1. 1. 1.]] \n",
            "\n",
            "[[ 4.  4.  4.]\n",
            " [12. 12. 12.]\n",
            " [24. 24. 24.]\n",
            " [24. 24. 24.]] \n",
            "\n"
          ]
        }
      ]
    },
    {
      "cell_type": "code",
      "source": [
        "x_inputs = np.random.uniform(-3.0, 3.0, (2, ))\n",
        "x_inputs"
      ],
      "metadata": {
        "colab": {
          "base_uri": "https://localhost:8080/"
        },
        "id": "HWUMzfvASavo",
        "outputId": "a22f3c61-25f6-4a3b-87d0-31f913a43539"
      },
      "execution_count": null,
      "outputs": [
        {
          "output_type": "execute_result",
          "data": {
            "text/plain": [
              "array([ 0.10557304, -2.58176486])"
            ]
          },
          "metadata": {},
          "execution_count": 295
        }
      ]
    },
    {
      "cell_type": "code",
      "source": [
        "print(nn.feed_forward(x_inputs))"
      ],
      "metadata": {
        "colab": {
          "base_uri": "https://localhost:8080/"
        },
        "id": "KqsTM3FNjx6I",
        "outputId": "8e8e0004-7632-4a60-f050-dea936bc0163"
      },
      "execution_count": null,
      "outputs": [
        {
          "output_type": "stream",
          "name": "stdout",
          "text": [
            "[ 0.15992971 -0.00331892]\n"
          ]
        }
      ]
    },
    {
      "cell_type": "code",
      "source": [
        "print(nn.layer_gradients)"
      ],
      "metadata": {
        "colab": {
          "base_uri": "https://localhost:8080/"
        },
        "id": "esOab7_weipT",
        "outputId": "7b2ae62f-ebc4-4d5b-8bbc-9956bd8c16e6"
      },
      "execution_count": null,
      "outputs": [
        {
          "output_type": "stream",
          "name": "stdout",
          "text": [
            "[[-0.67245507  0.99629086]\n",
            " [ 0.15992971 -0.33189154]\n",
            " [ 0.          0.        ]]\n"
          ]
        }
      ]
    },
    {
      "cell_type": "code",
      "source": [
        "nn.gradient_descent(1.0)"
      ],
      "metadata": {
        "id": "mS5Pjv5BjVUr"
      },
      "execution_count": null,
      "outputs": []
    },
    {
      "cell_type": "code",
      "source": [
        "print(nn.layer_gradients)"
      ],
      "metadata": {
        "colab": {
          "base_uri": "https://localhost:8080/"
        },
        "id": "YgMI5DFKjOcU",
        "outputId": "06fcad5c-bd7d-428d-80c1-69a8a067c155"
      },
      "execution_count": null,
      "outputs": [
        {
          "output_type": "stream",
          "name": "stdout",
          "text": [
            "[[-0.10754554 -0.33066051]\n",
            " [ 0.15992971 -0.33189154]\n",
            " [ 1.          1.        ]]\n"
          ]
        }
      ]
    },
    {
      "cell_type": "code",
      "source": [
        "print(nn.mults)"
      ],
      "metadata": {
        "colab": {
          "base_uri": "https://localhost:8080/"
        },
        "id": "UJs3Zpf8aUvH",
        "outputId": "70af8467-70d7-42d2-b9d5-ad2da12ed279"
      },
      "execution_count": null,
      "outputs": [
        {
          "output_type": "stream",
          "name": "stdout",
          "text": [
            "[[ 0.10557304 -2.58176486  1.        ]\n",
            " [-0.00672455  0.99629086  1.        ]]\n"
          ]
        }
      ]
    },
    {
      "cell_type": "code",
      "source": [
        "a = np.full((3, ), 1)\n",
        "print(a)"
      ],
      "metadata": {
        "colab": {
          "base_uri": "https://localhost:8080/"
        },
        "id": "45a5PznTandT",
        "outputId": "432502d1-1b69-4ad6-e262-36a148242e7c"
      },
      "execution_count": null,
      "outputs": [
        {
          "output_type": "stream",
          "name": "stdout",
          "text": [
            "[1 1 1]\n"
          ]
        }
      ]
    },
    {
      "cell_type": "code",
      "source": [
        "b = np.dot(nn.network[0], a)\n",
        "print(b)"
      ],
      "metadata": {
        "colab": {
          "base_uri": "https://localhost:8080/"
        },
        "id": "R3pnMan1daHX",
        "outputId": "770272c6-0839-4e10-cc61-5f3aeff1f2e3"
      },
      "execution_count": null,
      "outputs": [
        {
          "output_type": "stream",
          "name": "stdout",
          "text": [
            "[ 0.06518128 -0.07288214 -0.46527553]\n"
          ]
        }
      ]
    },
    {
      "cell_type": "code",
      "source": [
        "c = np.dot(nn.network[0], b)\n",
        "print(c)"
      ],
      "metadata": {
        "colab": {
          "base_uri": "https://localhost:8080/"
        },
        "id": "FTRwfgx5dcOa",
        "outputId": "b90aeb0f-1e81-4662-fa3f-6af7f3c574ff"
      },
      "execution_count": null,
      "outputs": [
        {
          "output_type": "stream",
          "name": "stdout",
          "text": [
            "[-0.13911551  0.02873237  0.13100894]\n"
          ]
        }
      ]
    },
    {
      "cell_type": "code",
      "source": [],
      "metadata": {
        "id": "V9fQwdlNdqXu"
      },
      "execution_count": null,
      "outputs": []
    }
  ]
}