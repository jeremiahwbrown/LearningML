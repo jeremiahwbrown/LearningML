{
  "nbformat": 4,
  "nbformat_minor": 0,
  "metadata": {
    "colab": {
      "provenance": []
    },
    "kernelspec": {
      "name": "python3",
      "display_name": "Python 3"
    },
    "language_info": {
      "name": "python"
    }
  },
  "cells": [
    {
      "cell_type": "code",
      "source": [
        "#Unfinished"
      ],
      "metadata": {
        "id": "yrTAdwLukWtT"
      },
      "execution_count": 1,
      "outputs": []
    },
    {
      "cell_type": "code",
      "execution_count": null,
      "metadata": {
        "id": "LtOaxX6PW0vV"
      },
      "outputs": [],
      "source": [
        "import numpy as np\n",
        "import time"
      ]
    },
    {
      "cell_type": "code",
      "source": [
        "def activation(input_array):\n",
        "  input_activations = np.zeros((input_array.shape[0], ))\n",
        "  input_activations_gradients = np.zeros((input_array.shape[0], ))\n",
        "  for i in range(input_array.shape[0]):\n",
        "    x = input_array[i]\n",
        "    input_activations[i], input_activations_gradients[i]= (x, 1) if x>0 else (.01 * x, .01)\n",
        "  return input_activations, input_activations_gradients"
      ],
      "metadata": {
        "id": "6loij9FKgwhe"
      },
      "execution_count": null,
      "outputs": []
    },
    {
      "cell_type": "code",
      "source": [
        "class NeuralNetwork:\n",
        "\n",
        "  def __init__(self, number_of_layers, number_of_neurons_per_layer):\n",
        "    self.size = number_of_layers\n",
        "    self.network = np.empty((number_of_layers, ), dtype=np.ndarray)\n",
        "    self.gradients = np.empty((number_of_layers, ), dtype=np.ndarray)\n",
        "\n",
        "    for i in range(self.size):\n",
        "      #self.network[i] = np.full((self.size, self.size + 1), 1.0)\n",
        "      self.network[i] = np.random.uniform(-.3, .3, (number_of_neurons_per_layer, number_of_neurons_per_layer + 1))\n",
        "      self.gradients[i] = np.zeros((self.size, self.size + 1))\n",
        "\n",
        "    self.activation_gradients = np.zeros((self.size, self.size + 1))\n",
        "    self.layer_gradients = np.zeros((self.size + 1, self.size))\n",
        "    self.mults = np.zeros((self.size, self.size + 1))\n",
        "\n",
        "\n",
        "  def feed_forward(self, x_inputs):\n",
        "    previous_activations = np.append(x_inputs, 1.0)\n",
        "    for i in range(self.size):\n",
        "      self.mults[i] = previous_activations\n",
        "      temp = np.dot(self.network[i], previous_activations)\n",
        "      previous_activations, self.activation_gradients[i] = activation(temp)\n",
        "      if (i + 1 < self.size):\n",
        "        self.layer_gradients[i] = np.dot(self.network[i + 1], )\n",
        "\n",
        "    return previous_activations[:previous_activations.shape[0]-1]\n",
        "\n",
        "  def gradient_descent(self, dE_dOutput):\n",
        "    output_layer_gradient = np.full((self.layer_gradients.shape[1], ), dE_dOutput)\n",
        "    self.layer_gradients[self.layer_gradients.shape[0]-1] = output_layer_gradient\n",
        "    self.layer_gradients = np.flip(np.multiply.accumulate(np.flip(self.layer_gradients)))\n",
        "\n",
        "\n",
        "  def __repr__(self):\n",
        "    s = \"\"\n",
        "    for i in range(self.network.shape[0]):\n",
        "      s += f\"Layer: {i+1} \\n{str(self.network[i])}\\n\\n\"\n",
        "    return s"
      ],
      "metadata": {
        "id": "Q2Yr0Lc7ZNKJ"
      },
      "execution_count": null,
      "outputs": []
    },
    {
      "cell_type": "code",
      "source": [],
      "metadata": {
        "id": "fEANgowoEOnr"
      },
      "execution_count": null,
      "outputs": []
    },
    {
      "cell_type": "code",
      "source": [
        "class NeuralNetwork:\n",
        "\n",
        "  def __init__(self, number_of_layers, number_of_neurons_per_layer):\n",
        "\n",
        "    self.size = number_of_layers\n",
        "    self.num_of_neurons = number_of_neurons_per_layer\n",
        "    self.shape = (number_of_layers, number_of_neurons_per_layer, number_of_neurons_per_layer)\n",
        "    self.weights = np.random.uniform(-.3, .3, self.shape)\n",
        "    self.bias = np.full((number_of_layers, number_of_neurons_per_layer), -1.0)\n",
        "    self.gradient = np.zeros(self.shape)\n",
        "    self.mults = np.zeros((number_of_layers, number_of_neurons_per_layer, 1))\n",
        "    self.layer_gradients = np.zeros((number_of_layers, number_of_neurons_per_layer))\n",
        "\n",
        "  def feed_forward(self, input):\n",
        "    previous_activations = input\n",
        "    prev_dot = np.array([])\n",
        "    for i in range(self.size):\n",
        "      self.mults[i] = previous_activations.reshape(self.num_of_neurons, 1)\n",
        "      if (i > 0):\n",
        "        self.layer_gradients[self.size - i] = prev_dot\n",
        "      dot_product = np.dot(self.weights[i], previous_activations)\n",
        "      prev_dot = np.copy(dot_product)\n",
        "      dot_product += self.bias[i]\n",
        "      temp, actv_g = activation(dot_product)\n",
        "      previous_activations = temp\n",
        "    return previous_activations\n",
        "\n",
        "  def gradient_descent(self, dE_dOutput):\n",
        "    self.layer_gradients[0] = np.array([dE_dOutput for _ in range(self.num_of_neurons)])\n",
        "    g = np.flip(np.multiply.accumulate(self.layer_gradients)).reshape((1, self.size*self.num_of_neurons))\n",
        "    x = self.mults.reshape((self.size*self.num_of_neurons, 1))\n",
        "    print(g, \"\\n\")\n",
        "    print(x, \"\\n\")\n",
        "    print(np.dot(x, g))\n",
        "    #print(np.dot(x, g).reshape(self.shape))\n",
        "\n",
        "  def __repr__(self):\n",
        "    return f\"{self.weights}\\n\\n {self.bias}\""
      ],
      "metadata": {
        "id": "-hord_wf8dAT"
      },
      "execution_count": null,
      "outputs": []
    },
    {
      "cell_type": "code",
      "source": [
        "NN = NeuralNetwork(2, 2)\n",
        "print(NN)"
      ],
      "metadata": {
        "colab": {
          "base_uri": "https://localhost:8080/"
        },
        "id": "fJC1FOPj_mxx",
        "outputId": "2303c7d8-ac30-4cde-ae5c-0cb491b0ba8d"
      },
      "execution_count": null,
      "outputs": [
        {
          "output_type": "stream",
          "name": "stdout",
          "text": [
            "[[[ 0.28458866  0.20156266]\n",
            "  [ 0.26123148 -0.06152426]]\n",
            "\n",
            " [[ 0.14765471  0.27795655]\n",
            "  [-0.09978906 -0.13448345]]]\n",
            "\n",
            " [[-1. -1.]\n",
            " [-1. -1.]]\n"
          ]
        }
      ]
    },
    {
      "cell_type": "code",
      "source": [
        "NN.feed_forward(np.ones(2, ))"
      ],
      "metadata": {
        "colab": {
          "base_uri": "https://localhost:8080/"
        },
        "id": "vx6b4lMQdUPi",
        "outputId": "ae6e2f25-2844-4e26-8155-01f2b5a23521"
      },
      "execution_count": null,
      "outputs": [
        {
          "output_type": "execute_result",
          "data": {
            "text/plain": [
              "array([-0.01002983, -0.00998411])"
            ]
          },
          "metadata": {},
          "execution_count": 366
        }
      ]
    },
    {
      "cell_type": "code",
      "source": [
        "print(NN.layer_gradients)"
      ],
      "metadata": {
        "colab": {
          "base_uri": "https://localhost:8080/"
        },
        "id": "mrQTe_VXf2PA",
        "outputId": "d46739a9-5c93-44a6-a54e-d26abce03bd6"
      },
      "execution_count": null,
      "outputs": [
        {
          "output_type": "stream",
          "name": "stdout",
          "text": [
            "[[3.         3.        ]\n",
            " [0.48615132 0.19970722]]\n"
          ]
        }
      ]
    },
    {
      "cell_type": "code",
      "source": [
        "print(NN.mults)"
      ],
      "metadata": {
        "colab": {
          "base_uri": "https://localhost:8080/"
        },
        "id": "R34XqKp0gkUk",
        "outputId": "af1634af-2e73-4ad5-bfe7-60762e658640"
      },
      "execution_count": null,
      "outputs": [
        {
          "output_type": "stream",
          "name": "stdout",
          "text": [
            "[[[ 1.        ]\n",
            "  [ 1.        ]]\n",
            "\n",
            " [[-0.00513849]\n",
            "  [-0.00800293]]]\n"
          ]
        }
      ]
    },
    {
      "cell_type": "code",
      "source": [
        "print(NN.layer_gradients)"
      ],
      "metadata": {
        "colab": {
          "base_uri": "https://localhost:8080/"
        },
        "id": "C0Kc8ntGcrpC",
        "outputId": "7b409dc2-b17b-4535-fd88-f192fc9bcd48"
      },
      "execution_count": null,
      "outputs": [
        {
          "output_type": "stream",
          "name": "stdout",
          "text": [
            "[[3.         3.        ]\n",
            " [0.48615132 0.19970722]]\n"
          ]
        }
      ]
    },
    {
      "cell_type": "code",
      "source": [
        "NN.gradient_descent(3.0)"
      ],
      "metadata": {
        "colab": {
          "base_uri": "https://localhost:8080/"
        },
        "id": "TgLU9614eIwS",
        "outputId": "f8a58bca-39c3-491d-f8e1-b2e862fee0ea"
      },
      "execution_count": null,
      "outputs": [
        {
          "output_type": "stream",
          "name": "stdout",
          "text": [
            "[[0.59912165 1.45845397 3.         3.        ]] \n",
            "\n",
            "[[ 1.        ]\n",
            " [ 1.        ]\n",
            " [-0.00513849]\n",
            " [-0.00800293]] \n",
            "\n",
            "[[ 0.59912165  1.45845397  3.          3.        ]\n",
            " [ 0.59912165  1.45845397  3.          3.        ]\n",
            " [-0.00307858 -0.00749425 -0.01541546 -0.01541546]\n",
            " [-0.00479473 -0.0116719  -0.02400878 -0.02400878]]\n"
          ]
        }
      ]
    },
    {
      "cell_type": "code",
      "source": [
        "print(NN)"
      ],
      "metadata": {
        "colab": {
          "base_uri": "https://localhost:8080/"
        },
        "id": "K2sH9BS2HiTD",
        "outputId": "bcf5b1a2-253b-4474-bceb-08967331a852"
      },
      "execution_count": null,
      "outputs": [
        {
          "output_type": "stream",
          "name": "stdout",
          "text": [
            "[[[ 0.28458866  0.20156266]\n",
            "  [ 0.26123148 -0.06152426]]\n",
            "\n",
            " [[ 0.14765471  0.27795655]\n",
            "  [-0.09978906 -0.13448345]]]\n",
            "\n",
            " [[-1. -1.]\n",
            " [-1. -1.]]\n"
          ]
        }
      ]
    },
    {
      "cell_type": "code",
      "source": [
        "start = time.time()\n",
        "for i in range(10000):\n",
        "  NN.feed_forward(np.zeros((100, )))\n",
        "finish = time.time()\n",
        "print(f\"time for 10000 iterations = {finish - start}\")"
      ],
      "metadata": {
        "colab": {
          "base_uri": "https://localhost:8080/"
        },
        "id": "a9GV7shFFO5P",
        "outputId": "4e716bc7-474e-4630-b390-f8af0f91ba95"
      },
      "execution_count": null,
      "outputs": [
        {
          "output_type": "stream",
          "name": "stdout",
          "text": [
            "time for 10000 iterations = 7.777102470397949\n"
          ]
        }
      ]
    },
    {
      "cell_type": "code",
      "source": [
        "26.87026858329773/7.777102470397949"
      ],
      "metadata": {
        "colab": {
          "base_uri": "https://localhost:8080/"
        },
        "id": "6yX3AMJ8Hcin",
        "outputId": "3cecf833-1677-4616-fd77-0a6ef72cc630"
      },
      "execution_count": null,
      "outputs": [
        {
          "output_type": "execute_result",
          "data": {
            "text/plain": [
              "3.455048803275289"
            ]
          },
          "metadata": {},
          "execution_count": 212
        }
      ]
    },
    {
      "cell_type": "code",
      "source": [
        "print(nn.weights)"
      ],
      "metadata": {
        "colab": {
          "base_uri": "https://localhost:8080/"
        },
        "id": "lCiCuRLiAIPe",
        "outputId": "8939c216-9e03-4639-e2b7-da4d336dcb71"
      },
      "execution_count": null,
      "outputs": [
        {
          "output_type": "stream",
          "name": "stdout",
          "text": [
            "[[[ 0.16392276  0.29188519]\n",
            "  [-0.06967535  0.11024264]]\n",
            "\n",
            " [[ 0.15216147  0.08845144]\n",
            "  [ 0.15984702 -0.07511981]]]\n"
          ]
        }
      ]
    },
    {
      "cell_type": "code",
      "source": [
        "print(nn.bias[1])"
      ],
      "metadata": {
        "colab": {
          "base_uri": "https://localhost:8080/"
        },
        "id": "k3AjduZYAFgW",
        "outputId": "069fa2d5-d70e-4401-c663-7ad7cabc1976"
      },
      "execution_count": null,
      "outputs": [
        {
          "output_type": "stream",
          "name": "stdout",
          "text": [
            "[-1.]\n"
          ]
        }
      ]
    },
    {
      "cell_type": "code",
      "source": [
        "arr = np.random.uniform(-.3, .3, (4, ))"
      ],
      "metadata": {
        "id": "x4mJnB02QkX0"
      },
      "execution_count": null,
      "outputs": []
    },
    {
      "cell_type": "code",
      "source": [
        "print(arr)\n",
        "print(np.maximum(arr, arr * .01))\n",
        "print((1 * (arr > 0)) + (.01 * (arr <= 0)))\n"
      ],
      "metadata": {
        "colab": {
          "base_uri": "https://localhost:8080/"
        },
        "id": "kAlSP0cOyjYP",
        "outputId": "79ea47c6-33ce-40a7-d43d-20f8479a1ea9"
      },
      "execution_count": null,
      "outputs": [
        {
          "output_type": "stream",
          "name": "stdout",
          "text": [
            "[ 0.13656428  0.23466515 -0.15494853 -0.18867521]\n",
            "[ 0.13656428  0.23466515 -0.00154949 -0.00188675]\n",
            "[1.   1.   0.01 0.01]\n"
          ]
        }
      ]
    },
    {
      "cell_type": "code",
      "source": [
        "def act(input_array):\n",
        "  input_activations = np.zeros((input_array.shape[0], ))\n",
        "  input_activations_gradients = np.zeros((input_array.shape[0], ))\n",
        "  for i in range(input_array.shape[0]):\n",
        "    x = input_array[i]\n",
        "    input_activations[i], input_activations_gradients[i]= (x, 1) if x>0 else (.01 * x, .01)\n",
        "  return input_activations, input_activations_gradients"
      ],
      "metadata": {
        "id": "lo0osvOFTYS3"
      },
      "execution_count": null,
      "outputs": []
    },
    {
      "cell_type": "code",
      "source": [
        "start = time.time()\n",
        "for i in range(1000000):\n",
        "  a = np.maximum(arr, arr * .01)\n",
        "  b = (1 * (arr > 0)) + (.01 * (arr <= 0))\n",
        "stop = time.time()\n",
        "print(a)\n",
        "print(b)\n",
        "print(stop - start)"
      ],
      "metadata": {
        "colab": {
          "base_uri": "https://localhost:8080/"
        },
        "id": "JDiyrwwdRHhG",
        "outputId": "e7e52186-853e-4fa6-b74d-10f538c0f284"
      },
      "execution_count": null,
      "outputs": [
        {
          "output_type": "stream",
          "name": "stdout",
          "text": [
            "[ 0.13656428  0.23466515 -0.00154949 -0.00188675]\n",
            "[1.   1.   0.01 0.01]\n",
            "11.558205127716064\n"
          ]
        }
      ]
    },
    {
      "cell_type": "code",
      "source": [
        "start = time.time()\n",
        "for i in range(10000000):\n",
        "  a, b = act(arr)\n",
        "stop = time.time()\n",
        "print(a)\n",
        "print(b)\n",
        "print(stop - start)"
      ],
      "metadata": {
        "colab": {
          "base_uri": "https://localhost:8080/"
        },
        "id": "-UTtULSyT8Lb",
        "outputId": "7546d8b2-31c0-432f-f680-ede21dfdd42b"
      },
      "execution_count": null,
      "outputs": [
        {
          "output_type": "stream",
          "name": "stdout",
          "text": [
            "[ 0.13656428  0.23466515 -0.00154949 -0.00188675]\n",
            "[1.   1.   0.01 0.01]\n",
            "37.43606662750244\n"
          ]
        }
      ]
    },
    {
      "cell_type": "code",
      "source": [
        "start = time.time()\n",
        "for i in range(10000000):\n",
        "  a, b = activation(arr)\n",
        "stop = time.time()\n",
        "print(a)\n",
        "print(b)\n",
        "print(stop - start)"
      ],
      "metadata": {
        "colab": {
          "base_uri": "https://localhost:8080/"
        },
        "id": "Cn0DaAGnWZTN",
        "outputId": "253120f3-48d5-43f2-e5d8-f562d4455069"
      },
      "execution_count": null,
      "outputs": [
        {
          "output_type": "stream",
          "name": "stdout",
          "text": [
            "[ 0.13656428  0.23466515 -0.00154949 -0.00188675]\n",
            "[1.   1.   0.01 0.01]\n",
            "40.26768207550049\n"
          ]
        }
      ]
    },
    {
      "cell_type": "code",
      "source": [
        "start = time.time()\n",
        "for i in range(100000):\n",
        "  (1 * (arr > 0)) + (.01 * (arr <= 0))\n",
        "stop = time.time()\n",
        "print(stop - start)"
      ],
      "metadata": {
        "colab": {
          "base_uri": "https://localhost:8080/"
        },
        "id": "PRHCQ6-gSNVG",
        "outputId": "f8dc8e01-5783-47ce-f54f-ec33a5c2a6fe"
      },
      "execution_count": null,
      "outputs": [
        {
          "output_type": "stream",
          "name": "stdout",
          "text": [
            "0.7432358264923096\n"
          ]
        }
      ]
    },
    {
      "cell_type": "code",
      "source": [
        "a = np.random.uniform(-.3, .3, (4, 2, 2))\n",
        "b = np.ones((2, ))\n",
        "c = np.dot(a[0], b)\n",
        "print(a[0], \"\\n\")\n",
        "print(b, \"\\n\")\n",
        "print(c)"
      ],
      "metadata": {
        "colab": {
          "base_uri": "https://localhost:8080/"
        },
        "id": "xcEgwTfzoW-A",
        "outputId": "4850fa29-5e52-49cf-f6db-689634b5b21b"
      },
      "execution_count": null,
      "outputs": [
        {
          "output_type": "stream",
          "name": "stdout",
          "text": [
            "[[ 0.06628737 -0.17867107]\n",
            " [-0.27926217  0.20872649]] \n",
            "\n",
            "[1. 1.] \n",
            "\n",
            "[-0.11238369 -0.07053568]\n"
          ]
        }
      ]
    },
    {
      "cell_type": "code",
      "source": [
        "e = np.ones((2, 1))\n",
        "print(e, \"\\n\")\n",
        "print(a[0], \"\\n\")\n",
        "print(a[0]+e)"
      ],
      "metadata": {
        "colab": {
          "base_uri": "https://localhost:8080/"
        },
        "id": "hi97V7pwqCd6",
        "outputId": "1956590b-7b0a-486a-b29d-cc33c588bf8b"
      },
      "execution_count": null,
      "outputs": [
        {
          "output_type": "stream",
          "name": "stdout",
          "text": [
            "[[1.]\n",
            " [1.]] \n",
            "\n",
            "[[0. 0. 0.]\n",
            " [0. 0. 0.]] \n",
            "\n",
            "[[1. 1. 1.]\n",
            " [1. 1. 1.]]\n"
          ]
        }
      ]
    },
    {
      "cell_type": "code",
      "source": [
        "print(nn.network.shape)"
      ],
      "metadata": {
        "colab": {
          "base_uri": "https://localhost:8080/"
        },
        "id": "EepamAjOoM3K",
        "outputId": "05d60f14-3c92-49c1-fcbd-d1ce879a6de5"
      },
      "execution_count": null,
      "outputs": [
        {
          "output_type": "stream",
          "name": "stdout",
          "text": [
            "(4,)\n"
          ]
        }
      ]
    },
    {
      "cell_type": "code",
      "source": [
        "nn = NeuralNetwork(4, 2)\n",
        "print(nn)"
      ],
      "metadata": {
        "colab": {
          "base_uri": "https://localhost:8080/"
        },
        "id": "VG7pkIlMlOxL",
        "outputId": "dbb4de63-f992-452d-956b-d50cb541c166"
      },
      "execution_count": null,
      "outputs": [
        {
          "output_type": "stream",
          "name": "stdout",
          "text": [
            "Layer: 1 \n",
            "[[-0.25508138  0.11135078  0.03940772]\n",
            " [-0.02366981 -0.0851505   0.17403183]]\n",
            "\n",
            "Layer: 2 \n",
            "[[ 0.04800862  0.01019903  0.02222631]\n",
            " [-0.03369174  0.15615857 -0.17770898]]\n",
            "\n",
            "Layer: 3 \n",
            "[[-0.15664641 -0.03205816 -0.29199187]\n",
            " [-0.04573103 -0.20276179 -0.0224605 ]]\n",
            "\n",
            "Layer: 4 \n",
            "[[-0.17622893  0.08391047 -0.00795108]\n",
            " [-0.0896192   0.17306162 -0.01730244]]\n",
            "\n",
            "\n"
          ]
        }
      ]
    },
    {
      "cell_type": "code",
      "source": [
        "a = np.array([[1.0, 1.0, 1.0], [2.0, 2.0, 2.0], [3.0, 3.0, 3.0], [4.0, 4.0, 4.0]])\n",
        "print(a)"
      ],
      "metadata": {
        "colab": {
          "base_uri": "https://localhost:8080/"
        },
        "id": "GdmhlYERpS75",
        "outputId": "60f73977-0905-4211-f99f-bf717f0d6e50"
      },
      "execution_count": null,
      "outputs": [
        {
          "output_type": "stream",
          "name": "stdout",
          "text": [
            "[[1. 1. 1.]\n",
            " [2. 2. 2.]\n",
            " [3. 3. 3.]\n",
            " [4. 4. 4.]]\n"
          ]
        }
      ]
    },
    {
      "cell_type": "code",
      "source": [
        "b = np.multiply.accumulate(np.flip(a))\n",
        "print(np.flip(a), '\\n')\n",
        "print(b, \"\\n\")"
      ],
      "metadata": {
        "colab": {
          "base_uri": "https://localhost:8080/"
        },
        "id": "udVMEAMfpYvh",
        "outputId": "4b1b4d12-a160-4997-a8d8-e5f90f591a4c"
      },
      "execution_count": null,
      "outputs": [
        {
          "output_type": "stream",
          "name": "stdout",
          "text": [
            "[[4. 4. 4.]\n",
            " [3. 3. 3.]\n",
            " [2. 2. 2.]\n",
            " [1. 1. 1.]] \n",
            "\n",
            "[[ 4.  4.  4.]\n",
            " [12. 12. 12.]\n",
            " [24. 24. 24.]\n",
            " [24. 24. 24.]] \n",
            "\n"
          ]
        }
      ]
    },
    {
      "cell_type": "code",
      "source": [
        "x_inputs = np.random.uniform(-3.0, 3.0, (2, ))\n",
        "x_inputs"
      ],
      "metadata": {
        "colab": {
          "base_uri": "https://localhost:8080/"
        },
        "id": "HWUMzfvASavo",
        "outputId": "a22f3c61-25f6-4a3b-87d0-31f913a43539"
      },
      "execution_count": null,
      "outputs": [
        {
          "output_type": "execute_result",
          "data": {
            "text/plain": [
              "array([ 0.10557304, -2.58176486])"
            ]
          },
          "metadata": {},
          "execution_count": 295
        }
      ]
    },
    {
      "cell_type": "code",
      "source": [
        "print(nn.feed_forward(x_inputs))"
      ],
      "metadata": {
        "colab": {
          "base_uri": "https://localhost:8080/"
        },
        "id": "KqsTM3FNjx6I",
        "outputId": "8e8e0004-7632-4a60-f050-dea936bc0163"
      },
      "execution_count": null,
      "outputs": [
        {
          "output_type": "stream",
          "name": "stdout",
          "text": [
            "[ 0.15992971 -0.00331892]\n"
          ]
        }
      ]
    },
    {
      "cell_type": "code",
      "source": [
        "print(nn.layer_gradients)"
      ],
      "metadata": {
        "colab": {
          "base_uri": "https://localhost:8080/"
        },
        "id": "esOab7_weipT",
        "outputId": "7b2ae62f-ebc4-4d5b-8bbc-9956bd8c16e6"
      },
      "execution_count": null,
      "outputs": [
        {
          "output_type": "stream",
          "name": "stdout",
          "text": [
            "[[-0.67245507  0.99629086]\n",
            " [ 0.15992971 -0.33189154]\n",
            " [ 0.          0.        ]]\n"
          ]
        }
      ]
    },
    {
      "cell_type": "code",
      "source": [
        "nn.gradient_descent(1.0)"
      ],
      "metadata": {
        "id": "mS5Pjv5BjVUr"
      },
      "execution_count": null,
      "outputs": []
    },
    {
      "cell_type": "code",
      "source": [
        "print(nn.layer_gradients)"
      ],
      "metadata": {
        "colab": {
          "base_uri": "https://localhost:8080/"
        },
        "id": "YgMI5DFKjOcU",
        "outputId": "06fcad5c-bd7d-428d-80c1-69a8a067c155"
      },
      "execution_count": null,
      "outputs": [
        {
          "output_type": "stream",
          "name": "stdout",
          "text": [
            "[[-0.10754554 -0.33066051]\n",
            " [ 0.15992971 -0.33189154]\n",
            " [ 1.          1.        ]]\n"
          ]
        }
      ]
    },
    {
      "cell_type": "code",
      "source": [
        "print(nn.mults)"
      ],
      "metadata": {
        "colab": {
          "base_uri": "https://localhost:8080/"
        },
        "id": "UJs3Zpf8aUvH",
        "outputId": "70af8467-70d7-42d2-b9d5-ad2da12ed279"
      },
      "execution_count": null,
      "outputs": [
        {
          "output_type": "stream",
          "name": "stdout",
          "text": [
            "[[ 0.10557304 -2.58176486  1.        ]\n",
            " [-0.00672455  0.99629086  1.        ]]\n"
          ]
        }
      ]
    },
    {
      "cell_type": "code",
      "source": [
        "a = np.full((3, ), 1)\n",
        "print(a)"
      ],
      "metadata": {
        "colab": {
          "base_uri": "https://localhost:8080/"
        },
        "id": "45a5PznTandT",
        "outputId": "432502d1-1b69-4ad6-e262-36a148242e7c"
      },
      "execution_count": null,
      "outputs": [
        {
          "output_type": "stream",
          "name": "stdout",
          "text": [
            "[1 1 1]\n"
          ]
        }
      ]
    },
    {
      "cell_type": "code",
      "source": [
        "b = np.dot(nn.network[0], a)\n",
        "print(b)"
      ],
      "metadata": {
        "colab": {
          "base_uri": "https://localhost:8080/"
        },
        "id": "R3pnMan1daHX",
        "outputId": "770272c6-0839-4e10-cc61-5f3aeff1f2e3"
      },
      "execution_count": null,
      "outputs": [
        {
          "output_type": "stream",
          "name": "stdout",
          "text": [
            "[ 0.06518128 -0.07288214 -0.46527553]\n"
          ]
        }
      ]
    },
    {
      "cell_type": "code",
      "source": [
        "c = np.dot(nn.network[0], b)\n",
        "print(c)"
      ],
      "metadata": {
        "colab": {
          "base_uri": "https://localhost:8080/"
        },
        "id": "FTRwfgx5dcOa",
        "outputId": "b90aeb0f-1e81-4662-fa3f-6af7f3c574ff"
      },
      "execution_count": null,
      "outputs": [
        {
          "output_type": "stream",
          "name": "stdout",
          "text": [
            "[-0.13911551  0.02873237  0.13100894]\n"
          ]
        }
      ]
    },
    {
      "cell_type": "code",
      "source": [],
      "metadata": {
        "id": "V9fQwdlNdqXu"
      },
      "execution_count": null,
      "outputs": []
    }
  ]
}